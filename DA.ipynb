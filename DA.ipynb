{
 "cells": [
  {
   "cell_type": "markdown",
   "metadata": {},
   "source": [
    "# Textblob"
   ]
  },
  {
   "cell_type": "markdown",
   "metadata": {},
   "source": [
    "### What is Textblob?"
   ]
  },
  {
   "cell_type": "markdown",
   "metadata": {},
   "source": [
    "Textblob is a python Library that used for text processing. It is a simple API for implementing NLP tasks like POS tagging, noun extraction,tokenization, word and phrase frequencies, word inflection,n-grams, classification, translation, sentimental analysis etc."
   ]
  },
  {
   "cell_type": "markdown",
   "metadata": {},
   "source": [
    "TextBlob is easy tounderstand and has detailed documentation. It also is superior to other tools for language detection as it uses the google translate. Since the API is not free, the limit is 1000 word translations per day."
   ]
  },
  {
   "cell_type": "markdown",
   "metadata": {},
   "source": [
    "### What is the difference between Textblob and NLTK?"
   ]
  },
  {
   "cell_type": "markdown",
   "metadata": {},
   "source": [
    "Depending on your requirement, either can be used. While NLTK is a good option for beginners, it does not provide certain funcationalities. Textblob has features and funtionalities of both NLTK and Pattern. In general it works well for tasks like text processing by providing an intuitive interface to NLTK. However, for tasks like token and word integration, NLTK works better."
   ]
  },
  {
   "cell_type": "markdown",
   "metadata": {},
   "source": [
    "### Exploring textblob and its functionalities:"
   ]
  },
  {
   "cell_type": "markdown",
   "metadata": {},
   "source": [
    "#### Import textblob"
   ]
  },
  {
   "cell_type": "code",
   "execution_count": 102,
   "metadata": {},
   "outputs": [],
   "source": [
    "from textblob import TextBlob"
   ]
  },
  {
   "cell_type": "markdown",
   "metadata": {},
   "source": [
    "#### Parts Of Speech tagging\n",
    "Categorizes words into grammatical forms"
   ]
  },
  {
   "cell_type": "code",
   "execution_count": 103,
   "metadata": {},
   "outputs": [],
   "source": [
    "text=TextBlob(\"A day without laughter is a day wasted - Charlie Chaplin.\")"
   ]
  },
  {
   "cell_type": "code",
   "execution_count": 104,
   "metadata": {},
   "outputs": [
    {
     "data": {
      "text/plain": [
       "[('A', 'DT'),\n",
       " ('day', 'NN'),\n",
       " ('without', 'IN'),\n",
       " ('laughter', 'NN'),\n",
       " ('is', 'VBZ'),\n",
       " ('a', 'DT'),\n",
       " ('day', 'NN'),\n",
       " ('wasted', 'VBD'),\n",
       " ('Charlie', 'NNP'),\n",
       " ('Chaplin', 'NNP')]"
      ]
     },
     "execution_count": 104,
     "metadata": {},
     "output_type": "execute_result"
    }
   ],
   "source": [
    "text.tags"
   ]
  },
  {
   "cell_type": "code",
   "execution_count": 105,
   "metadata": {},
   "outputs": [],
   "source": [
    "text1=TextBlob('Speech is human vocal communication using language. Each language uses phonetic combinations of vowel and consonant sounds that form the sound of its words that is, all English words sound different from all French words, even if they are the same word, e.g., \"role\" or \"hotel\", and using those words in their semantic character as words in the lexicon of a language according to the syntactic constraints that govern lexical words function in a sentence. In speaking, speakers perform many different intentional speech acts, e.g., informing, declaring, asking, persuading, directing, and can use enunciation, intonation, degrees of loudness, tempo, and other non-representational or paralinguistic aspects of vocalization to convey meaning. In their speech speakers also unintentionally communicate many aspects of their social position such as sex, age, place of origin , physical states , psychic states, physico-psychic states, education or experience and the like')"
   ]
  },
  {
   "cell_type": "code",
   "execution_count": 106,
   "metadata": {},
   "outputs": [
    {
     "data": {
      "text/plain": [
       "[('Speech', 'NN'),\n",
       " ('is', 'VBZ'),\n",
       " ('human', 'JJ'),\n",
       " ('vocal', 'JJ'),\n",
       " ('communication', 'NN'),\n",
       " ('using', 'VBG'),\n",
       " ('language', 'NN'),\n",
       " ('Each', 'DT'),\n",
       " ('language', 'NN'),\n",
       " ('uses', 'VBZ'),\n",
       " ('phonetic', 'JJ'),\n",
       " ('combinations', 'NNS'),\n",
       " ('of', 'IN'),\n",
       " ('vowel', 'NN'),\n",
       " ('and', 'CC'),\n",
       " ('consonant', 'JJ'),\n",
       " ('sounds', 'NNS'),\n",
       " ('that', 'WDT'),\n",
       " ('form', 'VBP'),\n",
       " ('the', 'DT'),\n",
       " ('sound', 'NN'),\n",
       " ('of', 'IN'),\n",
       " ('its', 'PRP$'),\n",
       " ('words', 'NNS'),\n",
       " ('that', 'DT'),\n",
       " ('is', 'VBZ'),\n",
       " ('all', 'DT'),\n",
       " ('English', 'NNP'),\n",
       " ('words', 'NNS'),\n",
       " ('sound', 'JJ'),\n",
       " ('different', 'JJ'),\n",
       " ('from', 'IN'),\n",
       " ('all', 'DT'),\n",
       " ('French', 'JJ'),\n",
       " ('words', 'NNS'),\n",
       " ('even', 'RB'),\n",
       " ('if', 'IN'),\n",
       " ('they', 'PRP'),\n",
       " ('are', 'VBP'),\n",
       " ('the', 'DT'),\n",
       " ('same', 'JJ'),\n",
       " ('word', 'NN'),\n",
       " ('e.g.', 'NN'),\n",
       " ('role', 'NN'),\n",
       " ('or', 'CC'),\n",
       " ('hotel', 'NN'),\n",
       " ('and', 'CC'),\n",
       " ('using', 'VBG'),\n",
       " ('those', 'DT'),\n",
       " ('words', 'NNS'),\n",
       " ('in', 'IN'),\n",
       " ('their', 'PRP$'),\n",
       " ('semantic', 'JJ'),\n",
       " ('character', 'NN'),\n",
       " ('as', 'IN'),\n",
       " ('words', 'NNS'),\n",
       " ('in', 'IN'),\n",
       " ('the', 'DT'),\n",
       " ('lexicon', 'NN'),\n",
       " ('of', 'IN'),\n",
       " ('a', 'DT'),\n",
       " ('language', 'NN'),\n",
       " ('according', 'VBG'),\n",
       " ('to', 'TO'),\n",
       " ('the', 'DT'),\n",
       " ('syntactic', 'JJ'),\n",
       " ('constraints', 'NNS'),\n",
       " ('that', 'WDT'),\n",
       " ('govern', 'VBP'),\n",
       " ('lexical', 'JJ'),\n",
       " ('words', 'NNS'),\n",
       " ('function', 'NN'),\n",
       " ('in', 'IN'),\n",
       " ('a', 'DT'),\n",
       " ('sentence', 'NN'),\n",
       " ('In', 'IN'),\n",
       " ('speaking', 'NN'),\n",
       " ('speakers', 'NNS'),\n",
       " ('perform', 'VBP'),\n",
       " ('many', 'JJ'),\n",
       " ('different', 'JJ'),\n",
       " ('intentional', 'JJ'),\n",
       " ('speech', 'NN'),\n",
       " ('acts', 'NNS'),\n",
       " ('e.g.', 'NN'),\n",
       " ('informing', 'NN'),\n",
       " ('declaring', 'VBG'),\n",
       " ('asking', 'VBG'),\n",
       " ('persuading', 'VBG'),\n",
       " ('directing', 'VBG'),\n",
       " ('and', 'CC'),\n",
       " ('can', 'MD'),\n",
       " ('use', 'VB'),\n",
       " ('enunciation', 'NN'),\n",
       " ('intonation', 'NN'),\n",
       " ('degrees', 'NNS'),\n",
       " ('of', 'IN'),\n",
       " ('loudness', 'NN'),\n",
       " ('tempo', 'NN'),\n",
       " ('and', 'CC'),\n",
       " ('other', 'JJ'),\n",
       " ('non-representational', 'JJ'),\n",
       " ('or', 'CC'),\n",
       " ('paralinguistic', 'JJ'),\n",
       " ('aspects', 'NNS'),\n",
       " ('of', 'IN'),\n",
       " ('vocalization', 'NN'),\n",
       " ('to', 'TO'),\n",
       " ('convey', 'VB'),\n",
       " ('meaning', 'NN'),\n",
       " ('In', 'IN'),\n",
       " ('their', 'PRP$'),\n",
       " ('speech', 'NN'),\n",
       " ('speakers', 'NNS'),\n",
       " ('also', 'RB'),\n",
       " ('unintentionally', 'RB'),\n",
       " ('communicate', 'VB'),\n",
       " ('many', 'JJ'),\n",
       " ('aspects', 'NNS'),\n",
       " ('of', 'IN'),\n",
       " ('their', 'PRP$'),\n",
       " ('social', 'JJ'),\n",
       " ('position', 'NN'),\n",
       " ('such', 'JJ'),\n",
       " ('as', 'IN'),\n",
       " ('sex', 'NN'),\n",
       " ('age', 'NN'),\n",
       " ('place', 'NN'),\n",
       " ('of', 'IN'),\n",
       " ('origin', 'NN'),\n",
       " ('physical', 'JJ'),\n",
       " ('states', 'NNS'),\n",
       " ('psychic', 'JJ'),\n",
       " ('states', 'NNS'),\n",
       " ('physico-psychic', 'JJ'),\n",
       " ('states', 'NNS'),\n",
       " ('education', 'NN'),\n",
       " ('or', 'CC'),\n",
       " ('experience', 'NN'),\n",
       " ('and', 'CC'),\n",
       " ('the', 'DT'),\n",
       " ('like', 'JJ')]"
      ]
     },
     "execution_count": 106,
     "metadata": {},
     "output_type": "execute_result"
    }
   ],
   "source": [
    "text1.tags"
   ]
  },
  {
   "cell_type": "markdown",
   "metadata": {},
   "source": [
    "#### Noun Phrases\n",
    "It extracts noun phrases from a given word string"
   ]
  },
  {
   "cell_type": "code",
   "execution_count": 107,
   "metadata": {},
   "outputs": [
    {
     "name": "stdout",
     "output_type": "stream",
     "text": [
      "speech\n",
      "human vocal communication\n",
      "language uses phonetic combinations\n",
      "consonant sounds\n",
      "english\n",
      "french words\n",
      "semantic character\n",
      "syntactic constraints\n",
      "lexical words function\n",
      "different intentional speech acts\n",
      "paralinguistic aspects\n",
      "speech speakers\n",
      "social position\n",
      "physical states\n",
      "psychic states\n",
      "physico-psychic states\n"
     ]
    }
   ],
   "source": [
    "for noun in text1.noun_phrases:\n",
    "    print(noun)"
   ]
  },
  {
   "cell_type": "code",
   "execution_count": 108,
   "metadata": {},
   "outputs": [
    {
     "data": {
      "text/plain": [
       "WordList(['charlie chaplin'])"
      ]
     },
     "execution_count": 108,
     "metadata": {},
     "output_type": "execute_result"
    }
   ],
   "source": [
    "text.noun_phrases"
   ]
  },
  {
   "cell_type": "code",
   "execution_count": 109,
   "metadata": {},
   "outputs": [],
   "source": [
    "# introducing the article \"a\" changes the wordlist and splits the phrase further\n",
    "text2=TextBlob(\"Each language uses a phonetic combination of vowel and consonant sounds that form the sound of its words.\")"
   ]
  },
  {
   "cell_type": "code",
   "execution_count": 110,
   "metadata": {},
   "outputs": [
    {
     "data": {
      "text/plain": [
       "WordList(['language uses', 'phonetic combination', 'consonant sounds'])"
      ]
     },
     "execution_count": 110,
     "metadata": {},
     "output_type": "execute_result"
    }
   ],
   "source": [
    "text2.noun_phrases"
   ]
  },
  {
   "cell_type": "markdown",
   "metadata": {},
   "source": [
    "#### Tokenization\n",
    "splits the given string into set of words/senetnces"
   ]
  },
  {
   "cell_type": "code",
   "execution_count": 111,
   "metadata": {},
   "outputs": [
    {
     "data": {
      "text/plain": [
       "WordList(['A', 'day', 'without', 'laughter', 'is', 'a', 'day', 'wasted', 'Charlie', 'Chaplin'])"
      ]
     },
     "execution_count": 111,
     "metadata": {},
     "output_type": "execute_result"
    }
   ],
   "source": [
    "text.words"
   ]
  },
  {
   "cell_type": "code",
   "execution_count": 112,
   "metadata": {},
   "outputs": [
    {
     "data": {
      "text/plain": [
       "[Sentence(\"A day without laughter is a day wasted - Charlie Chaplin.\")]"
      ]
     },
     "execution_count": 112,
     "metadata": {},
     "output_type": "execute_result"
    }
   ],
   "source": [
    "text.sentences"
   ]
  },
  {
   "cell_type": "code",
   "execution_count": 113,
   "metadata": {},
   "outputs": [
    {
     "data": {
      "text/plain": [
       "WordList(['Speech', 'is', 'human', 'vocal', 'communication', 'using', 'language', 'Each', 'language', 'uses', 'phonetic', 'combinations', 'of', 'vowel', 'and', 'consonant', 'sounds', 'that', 'form', 'the', 'sound', 'of', 'its', 'words', 'that', 'is', 'all', 'English', 'words', 'sound', 'different', 'from', 'all', 'French', 'words', 'even', 'if', 'they', 'are', 'the', 'same', 'word', 'e.g', 'role', 'or', 'hotel', 'and', 'using', 'those', 'words', 'in', 'their', 'semantic', 'character', 'as', 'words', 'in', 'the', 'lexicon', 'of', 'a', 'language', 'according', 'to', 'the', 'syntactic', 'constraints', 'that', 'govern', 'lexical', 'words', 'function', 'in', 'a', 'sentence', 'In', 'speaking', 'speakers', 'perform', 'many', 'different', 'intentional', 'speech', 'acts', 'e.g', 'informing', 'declaring', 'asking', 'persuading', 'directing', 'and', 'can', 'use', 'enunciation', 'intonation', 'degrees', 'of', 'loudness', 'tempo', 'and', 'other', 'non-representational', 'or', 'paralinguistic', 'aspects', 'of', 'vocalization', 'to', 'convey', 'meaning', 'In', 'their', 'speech', 'speakers', 'also', 'unintentionally', 'communicate', 'many', 'aspects', 'of', 'their', 'social', 'position', 'such', 'as', 'sex', 'age', 'place', 'of', 'origin', 'physical', 'states', 'psychic', 'states', 'physico-psychic', 'states', 'education', 'or', 'experience', 'and', 'the', 'like'])"
      ]
     },
     "execution_count": 113,
     "metadata": {},
     "output_type": "execute_result"
    }
   ],
   "source": [
    "text1.words"
   ]
  },
  {
   "cell_type": "code",
   "execution_count": 114,
   "metadata": {},
   "outputs": [
    {
     "data": {
      "text/plain": [
       "[Sentence(\"Speech is human vocal communication using language.\"),\n",
       " Sentence(\"Each language uses phonetic combinations of vowel and consonant sounds that form the sound of its words that is, all English words sound different from all French words, even if they are the same word, e.g., \"role\" or \"hotel\", and using those words in their semantic character as words in the lexicon of a language according to the syntactic constraints that govern lexical words function in a sentence.\"),\n",
       " Sentence(\"In speaking, speakers perform many different intentional speech acts, e.g., informing, declaring, asking, persuading, directing, and can use enunciation, intonation, degrees of loudness, tempo, and other non-representational or paralinguistic aspects of vocalization to convey meaning.\"),\n",
       " Sentence(\"In their speech speakers also unintentionally communicate many aspects of their social position such as sex, age, place of origin , physical states , psychic states, physico-psychic states, education or experience and the like\")]"
      ]
     },
     "execution_count": 114,
     "metadata": {},
     "output_type": "execute_result"
    }
   ],
   "source": [
    "text1.sentences"
   ]
  },
  {
   "cell_type": "markdown",
   "metadata": {},
   "source": [
    "#### Lemmmatization"
   ]
  },
  {
   "cell_type": "code",
   "execution_count": 115,
   "metadata": {},
   "outputs": [],
   "source": [
    "from textblob import Word"
   ]
  },
  {
   "cell_type": "code",
   "execution_count": 116,
   "metadata": {},
   "outputs": [],
   "source": [
    "w=Word(\"birds\")"
   ]
  },
  {
   "cell_type": "code",
   "execution_count": 117,
   "metadata": {},
   "outputs": [
    {
     "name": "stdout",
     "output_type": "stream",
     "text": [
      "birds : bird\n"
     ]
    }
   ],
   "source": [
    "print(\"birds :\", w.lemmatize()) "
   ]
  },
  {
   "cell_type": "code",
   "execution_count": 118,
   "metadata": {},
   "outputs": [],
   "source": [
    "l=Word(\"left\")"
   ]
  },
  {
   "cell_type": "code",
   "execution_count": 119,
   "metadata": {},
   "outputs": [
    {
     "name": "stdout",
     "output_type": "stream",
     "text": [
      "left : leave\n"
     ]
    }
   ],
   "source": [
    "#Verb form of left using \"v\"\n",
    "print(\"left :\", l.lemmatize(\"v\")) "
   ]
  },
  {
   "cell_type": "markdown",
   "metadata": {},
   "source": [
    "#### WordLists"
   ]
  },
  {
   "cell_type": "code",
   "execution_count": 96,
   "metadata": {},
   "outputs": [],
   "source": [
    "#Conversionto singular and plural forms\n",
    "sent=TextBlob(\"Happy  days are yet to come\")"
   ]
  },
  {
   "cell_type": "code",
   "execution_count": 98,
   "metadata": {},
   "outputs": [
    {
     "data": {
      "text/plain": [
       "WordList(['Happy', 'days', 'are', 'yet', 'to', 'come'])"
      ]
     },
     "execution_count": 98,
     "metadata": {},
     "output_type": "execute_result"
    }
   ],
   "source": [
    "list=sent.words\n",
    "list"
   ]
  },
  {
   "cell_type": "code",
   "execution_count": 99,
   "metadata": {},
   "outputs": [
    {
     "data": {
      "text/plain": [
       "'day'"
      ]
     },
     "execution_count": 99,
     "metadata": {},
     "output_type": "execute_result"
    }
   ],
   "source": [
    "text.words[1].singularize()"
   ]
  },
  {
   "cell_type": "code",
   "execution_count": 101,
   "metadata": {},
   "outputs": [
    {
     "data": {
      "text/plain": [
       "'days'"
      ]
     },
     "execution_count": 101,
     "metadata": {},
     "output_type": "execute_result"
    }
   ],
   "source": [
    "text.words[1].pluralize()"
   ]
  },
  {
   "cell_type": "markdown",
   "metadata": {},
   "source": [
    "#### Parsing\n",
    "Creating a parse senquence using .parse()"
   ]
  },
  {
   "cell_type": "code",
   "execution_count": 120,
   "metadata": {},
   "outputs": [
    {
     "data": {
      "text/plain": [
       "'A/DT/B-NP/O day/NN/I-NP/O without/IN/B-PP/B-PNP laughter/NN/B-NP/I-PNP is/VBZ/B-VP/O a/DT/B-NP/O day/NN/I-NP/O wasted/VBN/B-VP/O -/:/O/O Charlie/NNP/B-NP/O Chaplin/NNP/I-NP/O ././O/O'"
      ]
     },
     "execution_count": 120,
     "metadata": {},
     "output_type": "execute_result"
    }
   ],
   "source": [
    "text.parse()"
   ]
  },
  {
   "cell_type": "code",
   "execution_count": 124,
   "metadata": {},
   "outputs": [
    {
     "data": {
      "text/plain": [
       "'Speech/NN/B-NP/O is/VBZ/B-VP/O human/JJ/B-NP/O vocal/JJ/I-NP/O communication/NN/I-NP/O using/VBG/B-VP/O language/NN/B-NP/O ././O/O\\nEach/DT/B-NP/O language/NN/I-NP/O uses/VBZ/B-VP/O phonetic/JJ/B-NP/O combinations/NNS/I-NP/O of/IN/B-PP/B-PNP vowel/NN/B-NP/I-PNP and/CC/O/O consonant/JJ/B-ADJP/O sounds/VBZ/B-VP/O that/IN/B-PP/B-PNP form/NN/B-NP/I-PNP the/DT/I-NP/I-PNP sound/NN/I-NP/I-PNP of/IN/B-PP/B-PNP its/PRP$/B-NP/I-PNP words/NNS/I-NP/I-PNP that/IN/B-PP/O is/VBZ/B-VP/O ,/,/O/O all/DT/B-NP/O English/NNP/I-NP/O words/NNS/I-NP/O sound/NN/I-NP/O different/JJ/B-ADJP/O from/IN/B-PP/B-PNP all/DT/B-NP/I-PNP French/JJ/I-NP/I-PNP words/NNS/I-NP/I-PNP ,/,/O/O even/RB/B-ADVP/O if/IN/B-PP/B-PNP they/PRP/B-NP/I-PNP are/VBP/B-VP/O the/DT/B-NP/O same/JJ/I-NP/O word/NN/I-NP/O ,/,/O/O e.g./FW/O/O ,/,/O/O \"/\"/O/O role/NN/B-NP/O \"/\"/O/O or/CC/O/O \"/\"/O/O hotel/NN/B-NP/O \"/\"/O/O ,/,/O/O and/CC/O/O using/VBG/B-VP/O those/DT/B-NP/O words/NNS/I-NP/O in/IN/B-PP/B-PNP their/PRP$/B-NP/I-PNP semantic/JJ/I-NP/I-PNP character/NN/I-NP/I-PNP as/IN/B-PP/B-PNP words/NNS/B-NP/I-PNP in/IN/B-PP/B-PNP the/DT/B-NP/I-PNP lexicon/NN/I-NP/I-PNP of/IN/B-PP/B-PNP a/DT/B-NP/I-PNP language/NN/I-NP/I-PNP according/VBG/B-VP/I-PNP to/TO/B-PP/B-PNP the/DT/B-NP/I-PNP syntactic/JJ/I-NP/I-PNP constraints/NNS/I-NP/I-PNP that/IN/B-PP/O govern/VB/B-VP/O lexical/JJ/B-NP/O words/NNS/I-NP/O function/NN/I-NP/O in/IN/B-PP/B-PNP a/DT/B-NP/I-PNP sentence/NN/I-NP/I-PNP ././O/O\\nIn/IN/B-PP/B-PNP speaking/VBG/B-VP/I-PNP ,/,/O/O speakers/NNS/B-NP/O perform/VB/B-VP/O many/JJ/B-NP/O different/JJ/I-NP/O intentional/JJ/I-NP/O speech/NN/I-NP/O acts/NNS/I-NP/O ,/,/O/O e.g./FW/O/O ,/,/O/O informing/VBG/B-VP/O ,/,/O/O declaring/VBG/B-VP/O ,/,/O/O asking/VBG/B-VP/O ,/,/O/O persuading/VBG/B-VP/O ,/,/O/O directing/VBG/B-VP/O ,/,/O/O and/CC/O/O can/MD/B-VP/O use/NN/B-NP/O enunciation/NN/I-NP/O ,/,/O/O intonation/NN/B-NP/O ,/,/O/O degrees/NNS/B-NP/O of/IN/B-PP/B-PNP loudness/NN/B-NP/I-PNP ,/,/O/O tempo/NN/B-NP/O ,/,/O/O and/CC/O/O other/JJ/B-ADJP/O non-representational/JJ/I-ADJP/O or/CC/I-ADJP/O paralinguistic/JJ/B-NP/O aspects/NNS/I-NP/O of/IN/B-PP/B-PNP vocalization/NN/B-NP/I-PNP to/TO/B-PP/O convey/VB/B-VP/O meaning/NN/B-NP/O ././O/O\\nIn/IN/B-PP/B-PNP their/PRP$/B-NP/I-PNP speech/NN/I-NP/I-PNP speakers/NNS/I-NP/I-PNP also/RB/B-VP/O unintentionally/RB/I-VP/O communicate/VB/I-VP/O many/JJ/B-NP/O aspects/NNS/I-NP/O of/IN/B-PP/B-PNP their/PRP$/B-NP/I-PNP social/JJ/I-NP/I-PNP position/NN/I-NP/I-PNP such/JJ/B-ADJP/O as/IN/B-PP/B-PNP sex/NN/B-NP/I-PNP ,/,/O/O age/NN/B-NP/O ,/,/O/O place/NN/B-NP/O of/IN/B-PP/B-PNP origin/NN/B-NP/I-PNP ,/,/O/O physical/JJ/B-NP/O states/NNS/I-NP/O ,/,/O/O psychic/JJ/B-NP/O states/NNS/I-NP/O ,/,/O/O physico-psychic/JJ/B-NP/O states/NNS/I-NP/O ,/,/O/O education/NN/B-NP/O or/CC/I-NP/O experience/NN/I-NP/O and/CC/O/O the/DT/O/O like/IN/B-PP/O'"
      ]
     },
     "execution_count": 124,
     "metadata": {},
     "output_type": "execute_result"
    }
   ],
   "source": [
    "text1.parse()"
   ]
  },
  {
   "cell_type": "markdown",
   "metadata": {},
   "source": [
    "#### Frequency with word_count()"
   ]
  },
  {
   "cell_type": "code",
   "execution_count": 128,
   "metadata": {},
   "outputs": [
    {
     "data": {
      "text/plain": [
       "2"
      ]
     },
     "execution_count": 128,
     "metadata": {},
     "output_type": "execute_result"
    }
   ],
   "source": [
    "text.words.count('day')"
   ]
  },
  {
   "cell_type": "code",
   "execution_count": 129,
   "metadata": {},
   "outputs": [
    {
     "data": {
      "text/plain": [
       "1"
      ]
     },
     "execution_count": 129,
     "metadata": {},
     "output_type": "execute_result"
    }
   ],
   "source": [
    "text.words.count('charlie')"
   ]
  },
  {
   "cell_type": "code",
   "execution_count": 130,
   "metadata": {},
   "outputs": [
    {
     "data": {
      "text/plain": [
       "0"
      ]
     },
     "execution_count": 130,
     "metadata": {},
     "output_type": "execute_result"
    }
   ],
   "source": [
    "text.words.count('charlie', case_sensitive=True) #Treats upper and lower case as different"
   ]
  },
  {
   "cell_type": "code",
   "execution_count": 131,
   "metadata": {},
   "outputs": [
    {
     "data": {
      "text/plain": [
       "3"
      ]
     },
     "execution_count": 131,
     "metadata": {},
     "output_type": "execute_result"
    }
   ],
   "source": [
    "text1.words.count('speech')"
   ]
  },
  {
   "cell_type": "code",
   "execution_count": 133,
   "metadata": {},
   "outputs": [
    {
     "data": {
      "text/plain": [
       "1"
      ]
     },
     "execution_count": 133,
     "metadata": {},
     "output_type": "execute_result"
    }
   ],
   "source": [
    "text1.words.count('Speech', case_sensitive=True)"
   ]
  },
  {
   "cell_type": "markdown",
   "metadata": {},
   "source": [
    "#### Wordnet Integration\n",
    "Shows the form variations avaliable for any given root word"
   ]
  },
  {
   "cell_type": "code",
   "execution_count": 134,
   "metadata": {},
   "outputs": [],
   "source": [
    "from textblob.wordnet import VERB"
   ]
  },
  {
   "cell_type": "code",
   "execution_count": 135,
   "metadata": {},
   "outputs": [],
   "source": [
    "w=Word(\"play\")"
   ]
  },
  {
   "cell_type": "code",
   "execution_count": 137,
   "metadata": {},
   "outputs": [
    {
     "data": {
      "text/plain": [
       "[Synset('play.n.01'),\n",
       " Synset('play.n.02'),\n",
       " Synset('play.n.03'),\n",
       " Synset('maneuver.n.03'),\n",
       " Synset('play.n.05'),\n",
       " Synset('play.n.06'),\n",
       " Synset('bid.n.02'),\n",
       " Synset('play.n.08'),\n",
       " Synset('playing_period.n.01'),\n",
       " Synset('free_rein.n.01'),\n",
       " Synset('shimmer.n.01'),\n",
       " Synset('fun.n.02'),\n",
       " Synset('looseness.n.05'),\n",
       " Synset('play.n.14'),\n",
       " Synset('turn.n.03'),\n",
       " Synset('gambling.n.01'),\n",
       " Synset('play.n.17'),\n",
       " Synset('play.v.01'),\n",
       " Synset('play.v.02'),\n",
       " Synset('play.v.03'),\n",
       " Synset('act.v.03'),\n",
       " Synset('play.v.05'),\n",
       " Synset('play.v.06'),\n",
       " Synset('play.v.07'),\n",
       " Synset('act.v.05'),\n",
       " Synset('play.v.09'),\n",
       " Synset('play.v.10'),\n",
       " Synset('play.v.11'),\n",
       " Synset('play.v.12'),\n",
       " Synset('play.v.13'),\n",
       " Synset('play.v.14'),\n",
       " Synset('play.v.15'),\n",
       " Synset('play.v.16'),\n",
       " Synset('play.v.17'),\n",
       " Synset('play.v.18'),\n",
       " Synset('toy.v.02'),\n",
       " Synset('play.v.20'),\n",
       " Synset('dally.v.04'),\n",
       " Synset('play.v.22'),\n",
       " Synset('dally.v.01'),\n",
       " Synset('play.v.24'),\n",
       " Synset('act.v.10'),\n",
       " Synset('play.v.26'),\n",
       " Synset('bring.v.03'),\n",
       " Synset('play.v.28'),\n",
       " Synset('play.v.29'),\n",
       " Synset('bet.v.02'),\n",
       " Synset('play.v.31'),\n",
       " Synset('play.v.32'),\n",
       " Synset('play.v.33'),\n",
       " Synset('meet.v.10'),\n",
       " Synset('play.v.35')]"
      ]
     },
     "execution_count": 137,
     "metadata": {},
     "output_type": "execute_result"
    }
   ],
   "source": [
    "w.synsets"
   ]
  },
  {
   "cell_type": "markdown",
   "metadata": {},
   "source": [
    "#### Definitions"
   ]
  },
  {
   "cell_type": "code",
   "execution_count": 138,
   "metadata": {},
   "outputs": [
    {
     "data": {
      "text/plain": [
       "['diurnal insect typically having a slender body with knobbed antennae and broad colorful wings',\n",
       " 'a swimming stroke in which the arms are thrown forward together out of the water while the feet kick up and down',\n",
       " 'flutter like a butterfly',\n",
       " 'cut and spread open, as in preparation for cooking',\n",
       " 'talk or behave amorously, without serious intentions']"
      ]
     },
     "execution_count": 138,
     "metadata": {},
     "output_type": "execute_result"
    }
   ],
   "source": [
    "Word(\"butterfly\").definitions"
   ]
  },
  {
   "cell_type": "code",
   "execution_count": 139,
   "metadata": {},
   "outputs": [
    {
     "data": {
      "text/plain": [
       "['the natural satellite of the Earth',\n",
       " 'any object resembling a moon',\n",
       " 'the period between successive new moons (29.531 days)',\n",
       " 'the light of the Moon',\n",
       " 'United States religious leader (born in Korea) who founded the Unification Church in 1954; was found guilty of conspiracy to evade taxes (born in 1920)',\n",
       " 'any natural satellite of a planet',\n",
       " 'have dreamlike musings or fantasies while awake',\n",
       " 'be idle in a listless or dreamy way',\n",
       " \"expose one's buttocks to\"]"
      ]
     },
     "execution_count": 139,
     "metadata": {},
     "output_type": "execute_result"
    }
   ],
   "source": [
    "Word(\"moon\").definitions"
   ]
  },
  {
   "cell_type": "markdown",
   "metadata": {},
   "source": [
    "#### N-grams\n",
    "It gives a tuple of successive words in a string"
   ]
  },
  {
   "cell_type": "code",
   "execution_count": 140,
   "metadata": {},
   "outputs": [
    {
     "data": {
      "text/plain": [
       "[WordList(['A', 'day']),\n",
       " WordList(['day', 'without']),\n",
       " WordList(['without', 'laughter']),\n",
       " WordList(['laughter', 'is']),\n",
       " WordList(['is', 'a']),\n",
       " WordList(['a', 'day']),\n",
       " WordList(['day', 'wasted']),\n",
       " WordList(['wasted', 'Charlie']),\n",
       " WordList(['Charlie', 'Chaplin'])]"
      ]
     },
     "execution_count": 140,
     "metadata": {},
     "output_type": "execute_result"
    }
   ],
   "source": [
    "text.ngrams(n=2)"
   ]
  },
  {
   "cell_type": "code",
   "execution_count": 141,
   "metadata": {},
   "outputs": [
    {
     "data": {
      "text/plain": [
       "[WordList(['A', 'day', 'without', 'laughter']),\n",
       " WordList(['day', 'without', 'laughter', 'is']),\n",
       " WordList(['without', 'laughter', 'is', 'a']),\n",
       " WordList(['laughter', 'is', 'a', 'day']),\n",
       " WordList(['is', 'a', 'day', 'wasted']),\n",
       " WordList(['a', 'day', 'wasted', 'Charlie']),\n",
       " WordList(['day', 'wasted', 'Charlie', 'Chaplin'])]"
      ]
     },
     "execution_count": 141,
     "metadata": {},
     "output_type": "execute_result"
    }
   ],
   "source": [
    "text.ngrams(n=4)"
   ]
  },
  {
   "cell_type": "code",
   "execution_count": 142,
   "metadata": {},
   "outputs": [
    {
     "data": {
      "text/plain": [
       "[WordList(['A', 'day', 'without', 'laughter', 'is', 'a', 'day']),\n",
       " WordList(['day', 'without', 'laughter', 'is', 'a', 'day', 'wasted']),\n",
       " WordList(['without', 'laughter', 'is', 'a', 'day', 'wasted', 'Charlie']),\n",
       " WordList(['laughter', 'is', 'a', 'day', 'wasted', 'Charlie', 'Chaplin'])]"
      ]
     },
     "execution_count": 142,
     "metadata": {},
     "output_type": "execute_result"
    }
   ],
   "source": [
    "text.ngrams(n=7)"
   ]
  },
  {
   "cell_type": "markdown",
   "metadata": {},
   "source": [
    "#### Sentiment Analaysis\n",
    "This shows whether a given sentence or string is positive negative or neutral.\n",
    "The function returns polarity and subjectivity.\n",
    "The polarity ranges between -1 and 1. Where -1 is negative, 0 nuetral and 1 positive.\n",
    "Subjectivity ranges from 0 to 1. Where 0 is objective and 1 is subjective."
   ]
  },
  {
   "cell_type": "code",
   "execution_count": 146,
   "metadata": {},
   "outputs": [
    {
     "data": {
      "text/plain": [
       "TextBlob(\"A day without laughter is a day wasted - Charlie Chaplin.\")"
      ]
     },
     "execution_count": 146,
     "metadata": {},
     "output_type": "execute_result"
    }
   ],
   "source": [
    "text"
   ]
  },
  {
   "cell_type": "code",
   "execution_count": 147,
   "metadata": {},
   "outputs": [
    {
     "data": {
      "text/plain": [
       "Sentiment(polarity=-0.2, subjectivity=0.0)"
      ]
     },
     "execution_count": 147,
     "metadata": {},
     "output_type": "execute_result"
    }
   ],
   "source": [
    "text.sentiment"
   ]
  },
  {
   "cell_type": "code",
   "execution_count": 148,
   "metadata": {},
   "outputs": [
    {
     "data": {
      "text/plain": [
       "TextBlob(\"Speech is human vocal communication using language. Each language uses phonetic combinations of vowel and consonant sounds that form the sound of its words that is, all English words sound different from all French words, even if they are the same word, e.g., \"role\" or \"hotel\", and using those words in their semantic character as words in the lexicon of a language according to the syntactic constraints that govern lexical words function in a sentence. In speaking, speakers perform many different intentional speech acts, e.g., informing, declaring, asking, persuading, directing, and can use enunciation, intonation, degrees of loudness, tempo, and other non-representational or paralinguistic aspects of vocalization to convey meaning. In their speech speakers also unintentionally communicate many aspects of their social position such as sex, age, place of origin , physical states , psychic states, physico-psychic states, education or experience and the like\")"
      ]
     },
     "execution_count": 148,
     "metadata": {},
     "output_type": "execute_result"
    }
   ],
   "source": [
    "text1"
   ]
  },
  {
   "cell_type": "code",
   "execution_count": 149,
   "metadata": {},
   "outputs": [
    {
     "data": {
      "text/plain": [
       "Sentiment(polarity=0.12202380952380953, subjectivity=0.30782312925170074)"
      ]
     },
     "execution_count": 149,
     "metadata": {},
     "output_type": "execute_result"
    }
   ],
   "source": [
    "text1.sentiment"
   ]
  },
  {
   "cell_type": "markdown",
   "metadata": {},
   "source": [
    "#### Language detection"
   ]
  },
  {
   "cell_type": "code",
   "execution_count": 151,
   "metadata": {},
   "outputs": [],
   "source": [
    "lang=TextBlob(\"여보세요\")"
   ]
  },
  {
   "cell_type": "code",
   "execution_count": 153,
   "metadata": {},
   "outputs": [
    {
     "name": "stdout",
     "output_type": "stream",
     "text": [
      "ko\n"
     ]
    }
   ],
   "source": [
    "print(lang.detect_language())"
   ]
  },
  {
   "cell_type": "code",
   "execution_count": 154,
   "metadata": {},
   "outputs": [
    {
     "name": "stdout",
     "output_type": "stream",
     "text": [
      "Hello\n"
     ]
    }
   ],
   "source": [
    "print(lang.translate(to='en'))"
   ]
  },
  {
   "cell_type": "code",
   "execution_count": 158,
   "metadata": {},
   "outputs": [],
   "source": [
    "lang1=TextBlob(\"आप कैसे हैं?\")"
   ]
  },
  {
   "cell_type": "code",
   "execution_count": 159,
   "metadata": {},
   "outputs": [
    {
     "name": "stdout",
     "output_type": "stream",
     "text": [
      "hi\n"
     ]
    }
   ],
   "source": [
    "print(lang1.detect_language())"
   ]
  },
  {
   "cell_type": "code",
   "execution_count": 160,
   "metadata": {},
   "outputs": [
    {
     "name": "stdout",
     "output_type": "stream",
     "text": [
      "How are you?\n"
     ]
    }
   ],
   "source": [
    "print(lang1.translate(to='en'))"
   ]
  },
  {
   "cell_type": "markdown",
   "metadata": {},
   "source": [
    "Various other functionalities like spelling correction,lower case to upper and vice versa are available. The entire documententaion to which is referenced below. While there are pros to TextBlob, there are also some cons like it does not provide neural network models, is relatively slow and has not word vectorization scheme. "
   ]
  },
  {
   "cell_type": "markdown",
   "metadata": {},
   "source": [
    "### Conclusion\n",
    "For purposes of text processing and tasks like language detection and manipulation, TextBlob is preferable. It is also easy to use and has the functionalities of both NLTK and pattern. For beginners who has explored NLTK, this is definetly worth giving a try. "
   ]
  }
 ],
 "metadata": {
  "kernelspec": {
   "display_name": "Python 3",
   "language": "python",
   "name": "python3"
  },
  "language_info": {
   "codemirror_mode": {
    "name": "ipython",
    "version": 3
   },
   "file_extension": ".py",
   "mimetype": "text/x-python",
   "name": "python",
   "nbconvert_exporter": "python",
   "pygments_lexer": "ipython3",
   "version": "3.7.4"
  }
 },
 "nbformat": 4,
 "nbformat_minor": 2
}
